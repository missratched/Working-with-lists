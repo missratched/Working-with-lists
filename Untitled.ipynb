{
 "cells": [
  {
   "cell_type": "code",
   "execution_count": 1,
   "id": "dd3d9c04-dbbe-4a4f-be96-8c8e952474c7",
   "metadata": {},
   "outputs": [
    {
     "name": "stdout",
     "output_type": "stream",
     "text": [
      "Hello, Python\n"
     ]
    }
   ],
   "source": [
    "print(\"Hello, Python\")"
   ]
  },
  {
   "cell_type": "code",
   "execution_count": 4,
   "id": "090cec8b-0570-4c15-8e12-8addf8c8fe3e",
   "metadata": {},
   "outputs": [
    {
     "name": "stdout",
     "output_type": "stream",
     "text": [
      "Hello, Python \n",
      " hello you\n"
     ]
    }
   ],
   "source": [
    "print(\"Hello, Python \\n hello you\")"
   ]
  },
  {
   "cell_type": "code",
   "execution_count": 11,
   "id": "e6be01f5-57b8-43e7-9315-9513f3757eb8",
   "metadata": {},
   "outputs": [
    {
     "data": {
      "text/plain": [
       "['Python is cool', 2021, 10.5]"
      ]
     },
     "execution_count": 11,
     "metadata": {},
     "output_type": "execute_result"
    }
   ],
   "source": [
    "#Create a list:\n",
    "\n",
    "L = ['Python is cool', 2021, 10.5]\n",
    "L"
   ]
  },
  {
   "cell_type": "code",
   "execution_count": 13,
   "id": "68bcbbe7-a1de-4bc5-8351-aa4f567c81f3",
   "metadata": {},
   "outputs": [
    {
     "name": "stdout",
     "output_type": "stream",
     "text": [
      "the same element using positive and negative indexing:\n",
      " Positive: Python is cool Negative: Python is cool\n",
      "Positive: 2021 \n",
      " Negative: 2021\n"
     ]
    }
   ],
   "source": [
    "# Retrieve elements of the list using positive and negative indexes:\n",
    "print('the same element using positive and negative indexing:\\n Positive:',L[0],'Negative:' ,L[-3] )\n",
    "print('Positive:', L[1], '\\n Negative:' ,L[-2])\n",
    "print('Positive:', L[2], '\\n Negative:')\n"
   ]
  },
  {
   "cell_type": "code",
   "execution_count": 1,
   "id": "2d7987c2-d30e-41b6-be0e-51837291a3da",
   "metadata": {},
   "outputs": [
    {
     "data": {
      "text/plain": [
       "['Michael Jackson', 10.1, 1982, [1, 2], ('A', 1)]"
      ]
     },
     "execution_count": 1,
     "metadata": {},
     "output_type": "execute_result"
    }
   ],
   "source": [
    "#Sample list that has nested elements\n",
    "L= [\"Michael Jackson\", 10.1, 1982, [1, 2], (\"A\", 1)]\n",
    "L"
   ]
  },
  {
   "cell_type": "code",
   "execution_count": 2,
   "id": "32463ab2-3576-40f2-a950-1214d349c20d",
   "metadata": {},
   "outputs": [
    {
     "data": {
      "text/plain": [
       "5"
      ]
     },
     "execution_count": 2,
     "metadata": {},
     "output_type": "execute_result"
    }
   ],
   "source": [
    "len(L)"
   ]
  },
  {
   "cell_type": "code",
   "execution_count": 39,
   "id": "113fbcd3-e9b7-4f72-91d2-31a0e011e76e",
   "metadata": {},
   "outputs": [
    {
     "data": {
      "text/plain": [
       "['Michael Jackson', 10.1, 1982, [1, 2], ('A', 1), 'pop', 10]"
      ]
     },
     "execution_count": 39,
     "metadata": {},
     "output_type": "execute_result"
    }
   ],
   "source": [
    "#List slicing:\n",
    "L[0:5]\n",
    "L[::2]\n",
    "L[:3:2]\n",
    "L.extend(['pop', 10])\n",
    "L"
   ]
  },
  {
   "cell_type": "code",
   "execution_count": 11,
   "id": "07052ab7-fa3f-4717-a658-e6283f7ce8cb",
   "metadata": {},
   "outputs": [
    {
     "data": {
      "text/plain": [
       "['Michael Jackson',\n",
       " 10.1,\n",
       " 1982,\n",
       " [1, 2],\n",
       " ('A', 1),\n",
       " 'pop',\n",
       " 10,\n",
       " ['smooth criminal', 1991]]"
      ]
     },
     "execution_count": 11,
     "metadata": {},
     "output_type": "execute_result"
    }
   ],
   "source": [
    "# Use extend/append method to add elements to list\n",
    "L = [\"Michael Jackson\", 10.1, 1982, [1, 2], (\"A\", 1)]\n",
    "L.extend(['pop', 10])\n",
    "L\n",
    "L. append(['smooth criminal',1991])\n",
    "L\n"
   ]
  },
  {
   "cell_type": "code",
   "execution_count": 19,
   "id": "9bff3c52-8850-42f5-8d90-16c353211697",
   "metadata": {},
   "outputs": [
    {
     "name": "stdout",
     "output_type": "stream",
     "text": [
      "Before change: ['smooth criminal', 1991, 15]\n",
      "After change: ['billie jean', 1991, 15]\n",
      "Before change: ['matka romy i joanny', 1991, 3]\n",
      "After change: ['matka romy i joanny', 1958, 3]\n"
     ]
    }
   ],
   "source": [
    "#Change the element based on the index:\n",
    "A=['smooth criminal', 1991, 15]\n",
    "print(\"Before change:\", A) \n",
    " A[0] = \"billie jean\"\n",
    "print(\"After change:\", A)\n",
    "B = ['matka romy i joanny',1991, 3]\n",
    "print(\"Before change:\", B)\n",
    "B[1] = (1958)\n",
    "print(\"After change:\", B)"
   ]
  },
  {
   "cell_type": "code",
   "execution_count": 23,
   "id": "a88a69b3-b97d-46d2-bae9-fa50ea5ad5bb",
   "metadata": {},
   "outputs": [
    {
     "name": "stdout",
     "output_type": "stream",
     "text": [
      "Before change: ['Rock and roll is king', 2020, 2016]\n",
      "After change ['Rock and roll is king', 2016]\n"
     ]
    }
   ],
   "source": [
    "#Delete elements based on the index\n",
    "A=['Rock and roll is king', 2020, 2016]\n",
    "print(\"Before change:\", A)\n",
    "del(A[1])\n",
    "print(\"After change\", A)\n"
   ]
  },
  {
   "cell_type": "code",
   "execution_count": 24,
   "id": "8817d899-857c-4573-9ce1-1e0f80167d01",
   "metadata": {},
   "outputs": [
    {
     "data": {
      "text/plain": [
       "['matka', 'romy', 'i', 'joanny']"
      ]
     },
     "execution_count": 24,
     "metadata": {},
     "output_type": "execute_result"
    }
   ],
   "source": [
    "# Split the string, default is by space\n",
    "'matka romy i joanny'.split()"
   ]
  },
  {
   "cell_type": "code",
   "execution_count": 26,
   "id": "837c52d7-0026-4677-9499-0f0bb45bcc04",
   "metadata": {},
   "outputs": [
    {
     "data": {
      "text/plain": [
       "['matka romy', ' i', ' joanny']"
      ]
     },
     "execution_count": 26,
     "metadata": {},
     "output_type": "execute_result"
    }
   ],
   "source": [
    "# Split the string by comma\n",
    "\"matka romy, i, joanny\".split(',')"
   ]
  },
  {
   "cell_type": "code",
   "execution_count": 30,
   "id": "39a69790-57f8-455d-ad9e-57c775ea9a95",
   "metadata": {},
   "outputs": [
    {
     "name": "stdout",
     "output_type": "stream",
     "text": [
      "A: ['apple', 1958, 3]\n",
      "B: ['apple', 1958, 3]\n"
     ]
    },
    {
     "data": {
      "text/plain": [
       "['apple', 1958, 3]"
      ]
     },
     "execution_count": 30,
     "metadata": {},
     "output_type": "execute_result"
    }
   ],
   "source": [
    "#Copy list\n",
    "A = ['Billie Jean', 2015, 2020]\n",
    "A=B\n",
    "print('A:', A)\n",
    "print('B:', B)\n",
    "A[0] = \"apple\"\n",
    "A\n"
   ]
  },
  {
   "cell_type": "code",
   "execution_count": 36,
   "id": "56c962d9-f82a-4646-b937-2fc4b40f6b42",
   "metadata": {},
   "outputs": [
    {
     "name": "stdout",
     "output_type": "stream",
     "text": [
      "B[0] Billie Jean\n",
      "Smooth criminal\n",
      "['B[0]:', 'Billie Jean']\n"
     ]
    }
   ],
   "source": [
    "#Clone list\n",
    "A = ['Billie Jean', 2015, 2020]\n",
    "B = A[:]\n",
    "B\n",
    "print(\"B[0]\", B[0] )\n",
    "A[0] = \"Smooth criminal\"\n",
    "print(A[0])\n",
    "print([\"B[0]:\", B[0]])"
   ]
  },
  {
   "cell_type": "code",
   "execution_count": 4,
   "id": "bc4a9cc6-f4d0-473a-95c3-49290d83cb0b",
   "metadata": {},
   "outputs": [
    {
     "data": {
      "text/plain": [
       "[1, 'hello', [1, 2, 3], 'True']"
      ]
     },
     "execution_count": 4,
     "metadata": {},
     "output_type": "execute_result"
    }
   ],
   "source": [
    "# Create a list a_list, with the following elements 1, hello, [1,2,3] and True.\n",
    "a_list = [1, 'hello', [1,2,3], 'True']\n",
    "a_list\n"
   ]
  },
  {
   "cell_type": "code",
   "execution_count": 6,
   "id": "65d571f4-c23e-4ec7-8250-550b2532a8b4",
   "metadata": {},
   "outputs": [
    {
     "data": {
      "text/plain": [
       "'hello'"
      ]
     },
     "execution_count": 6,
     "metadata": {},
     "output_type": "execute_result"
    }
   ],
   "source": [
    "#Find the value stored at index 1 of a_list\n",
    "a_list\n",
    "a_list[1]"
   ]
  },
  {
   "cell_type": "code",
   "execution_count": 13,
   "id": "69ccf7dd-76d1-4277-af8b-c3db95f5d814",
   "metadata": {},
   "outputs": [
    {
     "name": "stdout",
     "output_type": "stream",
     "text": [
      "the element stored at 1 index: hello \n",
      " the element stored at 2 element: [1, 2, 3] \n",
      " the element stored at 3 index: True\n"
     ]
    }
   ],
   "source": [
    "#Retrieve the elements stored at index 1, 2 and 3 of a_list\n",
    "a_list = [1, 'hello', [1,2,3], 'True']\n",
    "print('the element stored at 1 index:',  a_list[1], '\\n the element stored at 2 element:', a_list[2], '\\n the element stored at 3 index:', a_list[3])\n",
    "print"
   ]
  },
  {
   "cell_type": "code",
   "execution_count": 15,
   "id": "88ad69df-d3b1-45aa-8682-4ec2ac8159d7",
   "metadata": {},
   "outputs": [
    {
     "data": {
      "text/plain": [
       "['hello', [1, 2, 3], 'True']"
      ]
     },
     "execution_count": 15,
     "metadata": {},
     "output_type": "execute_result"
    }
   ],
   "source": [
    "#Retrieve the elements stored at index 1, 2 and 3 of a_list\n",
    "a_list[1:4]\n",
    "\n"
   ]
  },
  {
   "cell_type": "code",
   "execution_count": 16,
   "id": "db5b92fb-5315-4d55-b4e8-c3129d918cac",
   "metadata": {},
   "outputs": [
    {
     "data": {
      "text/plain": [
       "[1, 'a', 2, 1, 'd']"
      ]
     },
     "execution_count": 16,
     "metadata": {},
     "output_type": "execute_result"
    }
   ],
   "source": [
    "# Concatenate the following lists A = [1, 'a'] and B = [2, 1, 'd']\n",
    "A=[1, 'a']\n",
    "B = [2, 1, 'd']\n",
    "C = A+B\n",
    "C"
   ]
  },
  {
   "cell_type": "code",
   "execution_count": null,
   "id": "48e21de5-75ac-4807-973d-b4f90249b65c",
   "metadata": {},
   "outputs": [],
   "source": []
  }
 ],
 "metadata": {
  "kernelspec": {
   "display_name": "Python",
   "language": "python",
   "name": "conda-env-python-py"
  },
  "language_info": {
   "codemirror_mode": {
    "name": "ipython",
    "version": 3
   },
   "file_extension": ".py",
   "mimetype": "text/x-python",
   "name": "python",
   "nbconvert_exporter": "python",
   "pygments_lexer": "ipython3",
   "version": "3.6.13"
  }
 },
 "nbformat": 4,
 "nbformat_minor": 5
}
