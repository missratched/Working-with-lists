{
 "cells": [
  {
   "cell_type": "code",
   "execution_count": 1,
   "id": "f0e8c844-26d8-422d-892e-080b886a6402",
   "metadata": {},
   "outputs": [
    {
     "data": {
      "text/plain": [
       "('tuple1', 1, 2)"
      ]
     },
     "execution_count": 1,
     "metadata": {},
     "output_type": "execute_result"
    }
   ],
   "source": [
    "#Operations on tuples\n",
    "# Create a tuple:\n",
    "tuple = (\"tuple1\", 1, 2, )\n",
    "tuple"
   ]
  },
  {
   "cell_type": "code",
   "execution_count": 4,
   "id": "f4ee95db-35af-41f3-8788-2bb8dd566ee6",
   "metadata": {},
   "outputs": [
    {
     "data": {
      "text/plain": [
       "tuple"
      ]
     },
     "execution_count": 4,
     "metadata": {},
     "output_type": "execute_result"
    }
   ],
   "source": [
    "# Print the type of the tuple you created\n",
    "type(tuple)\n"
   ]
  },
  {
   "cell_type": "code",
   "execution_count": 8,
   "id": "ee6bc2ae-e958-47f9-a220-9461842882e7",
   "metadata": {},
   "outputs": [
    {
     "name": "stdout",
     "output_type": "stream",
     "text": [
      "retrieve a value under a positive index: tuple1 \n",
      " retrieve a value under a negative index: tuple1\n",
      "retrieve a value under a positive index: 1 \n",
      " retrieve a value under a ngative index: 1\n",
      "retrieve a value under a positive index: 2 \n",
      " retrieve a value under a negative index: 2\n"
     ]
    }
   ],
   "source": [
    "# Print the variable on each index\n",
    "print('retrieve a value under a positive index:', tuple[0], '\\n retrieve a value under a negative index:', tuple[-3])\n",
    "print('retrieve a value under a positive index:', tuple[1], '\\n retrieve a value under a ngative index:',tuple[-2] )\n",
    "print('retrieve a value under a positive index:', tuple[2], '\\n retrieve a value under a negative index:', tuple[-1])"
   ]
  },
  {
   "cell_type": "code",
   "execution_count": 13,
   "id": "01b9c8dd-37e4-4751-b945-e8b0fbbe16a4",
   "metadata": {},
   "outputs": [
    {
     "name": "stdout",
     "output_type": "stream",
     "text": [
      "<class 'str'>\n",
      "<class 'int'>\n",
      "<class 'int'>\n"
     ]
    }
   ],
   "source": [
    "# Print the type of value on each index\n",
    "print(type(tuple[0]))\n",
    "print(type(tuple[1]))\n",
    "print(type(tuple[2]))"
   ]
  },
  {
   "cell_type": "code",
   "execution_count": 14,
   "id": "43d48f16-12b7-48d0-a7e9-2762eac60cc6",
   "metadata": {},
   "outputs": [
    {
     "data": {
      "text/plain": [
       "('tuple1', 1, 2, 'madonna', 1994)"
      ]
     },
     "execution_count": 14,
     "metadata": {},
     "output_type": "execute_result"
    }
   ],
   "source": [
    "# Concatenate two tuples\n",
    "tuple1 = tuple + (\"madonna\", 1994)\n",
    "tuple1"
   ]
  },
  {
   "cell_type": "code",
   "execution_count": 1,
   "id": "843f071b-0bfa-4067-b9cb-8974f55f7ad1",
   "metadata": {},
   "outputs": [
    {
     "data": {
      "text/plain": [
       "('tuple1', 2)"
      ]
     },
     "execution_count": 1,
     "metadata": {},
     "output_type": "execute_result"
    }
   ],
   "source": [
    "#Slicing tuples\n",
    "#Slice from index 0:4\n",
    "tuple1 = (\"tuple1\", 1, 2, \"madonna\", 1994)\n",
    "tuple1[0:4]\n",
    "#Retrieve every second element of the tuple\n",
    "tuple1[::2]\n",
    "tuple1[0:4:2]"
   ]
  },
  {
   "cell_type": "code",
   "execution_count": 2,
   "id": "12742f48-2121-439a-8dbc-4fc7816d6f46",
   "metadata": {},
   "outputs": [
    {
     "data": {
      "text/plain": [
       "5"
      ]
     },
     "execution_count": 2,
     "metadata": {},
     "output_type": "execute_result"
    }
   ],
   "source": [
    "#Get the lenght of tuple\n",
    "tuple1 = (\"tuple1\", 1, 2, \"madonna\", 1994)\n",
    "len(tuple1)\n",
    "\n"
   ]
  },
  {
   "cell_type": "code",
   "execution_count": 6,
   "id": "7ac99d4b-fe53-45a7-8a88-a5c70ea425ef",
   "metadata": {},
   "outputs": [
    {
     "data": {
      "text/plain": [
       "[5, 7, 8, 10, 12, 15, 19]"
      ]
     },
     "execution_count": 6,
     "metadata": {},
     "output_type": "execute_result"
    }
   ],
   "source": [
    "#Sorting\n",
    "Scales = (5, 7, 8, 10, 12, 15, 19)\n",
    "ScalesSorted = sorted(Scales)\n",
    "ScalesSorted"
   ]
  },
  {
   "cell_type": "code",
   "execution_count": 7,
   "id": "acb86a51-9b1e-4ac7-aa44-3e05324f5384",
   "metadata": {},
   "outputs": [
    {
     "data": {
      "text/plain": [
       "(1, 2, ('pop', 'rock'), (3, 4), ('disco', (1, 2)))"
      ]
     },
     "execution_count": 7,
     "metadata": {},
     "output_type": "execute_result"
    }
   ],
   "source": [
    "# Create a nest tuple\n",
    "\n",
    "NestedT =(1, 2, (\"pop\", \"rock\") ,(3,4),(\"disco\",(1,2)))\n",
    "NestedT\n"
   ]
  },
  {
   "cell_type": "code",
   "execution_count": 11,
   "id": "4e7165c1-c676-4986-a4f7-cdf5fc04e98c",
   "metadata": {},
   "outputs": [
    {
     "name": "stdout",
     "output_type": "stream",
     "text": [
      "Element 0 of tuple: 1\n",
      "Element 1 of tuple: 2\n",
      "Element 2 of tuple: ('pop', 'rock')\n",
      "Element 3 of tuple: (3, 4)\n"
     ]
    }
   ],
   "source": [
    "print(\"Element 0 of tuple:\", NestedT[0])\n",
    "print(\"Element 1 of tuple:\", NestedT[1])\n",
    "print(\"Element 2 of tuple:\", NestedT[2])\n",
    "print(\"Element 3 of tuple:\", NestedT[3])"
   ]
  },
  {
   "cell_type": "code",
   "execution_count": 15,
   "id": "23b7ae5b-87b9-4089-a1b8-623714b4f90e",
   "metadata": {},
   "outputs": [
    {
     "name": "stdout",
     "output_type": "stream",
     "text": [
      "Element 2, 0 of Tuple: pop \n",
      " Element 2, 1 of Tuple: rock\n",
      "Element 3, 0 of Tuple: 3 \n",
      " Element 3, 1 of Tuple: 4\n",
      "Element 4, 0 of Tuple: disco \n",
      " Element 4, 1 of Tuple: (1, 2)\n"
     ]
    }
   ],
   "source": [
    "# Print element on each index, including nest indexes (accessin nested indexes)\n",
    "print(\"Element 2, 0 of Tuple:\", NestedT[2][0], \"\\n Element 2, 1 of Tuple:\", NestedT[2][1])\n",
    "print(\"Element 3, 0 of Tuple:\", NestedT[3][0], \"\\n Element 3, 1 of Tuple:\", NestedT[3][1])\n",
    "print(\"Element 4, 0 of Tuple:\", NestedT[4][0], \"\\n Element 4, 1 of Tuple:\", NestedT[4][1])\n"
   ]
  },
  {
   "cell_type": "code",
   "execution_count": 17,
   "id": "50760a15-7e6e-44b4-b097-b93ad817fbc7",
   "metadata": {},
   "outputs": [
    {
     "data": {
      "text/plain": [
       "'p'"
      ]
     },
     "execution_count": 17,
     "metadata": {},
     "output_type": "execute_result"
    }
   ],
   "source": [
    "# Print the first element in the second nested tuples\n",
    "NestedT[2][1][0]\n",
    "NestedT[2][0][0]\n"
   ]
  },
  {
   "cell_type": "code",
   "execution_count": 4,
   "id": "b63b4eb0-4526-4e57-911f-80572b072b1c",
   "metadata": {},
   "outputs": [
    {
     "data": {
      "text/plain": [
       "'rc'"
      ]
     },
     "execution_count": 4,
     "metadata": {},
     "output_type": "execute_result"
    }
   ],
   "source": [
    "NestedT= (1, 2, (\"pop\", \"rock\") ,(3,4),(\"disco\",(1,2)))\n",
    "NestedT[2][0][2]\n",
    "NestedT[2][1][::2]"
   ]
  },
  {
   "cell_type": "code",
   "execution_count": 5,
   "id": "7e818b02-6774-44cc-99bf-6719b746d053",
   "metadata": {},
   "outputs": [
    {
     "data": {
      "text/plain": [
       "('pop',\n",
       " 'rock',\n",
       " 'soul',\n",
       " 'hard rock',\n",
       " 'soft rock',\n",
       " 'R&B',\n",
       " 'progressive rock',\n",
       " 'disco')"
      ]
     },
     "execution_count": 5,
     "metadata": {},
     "output_type": "execute_result"
    }
   ],
   "source": [
    "#Quiz on tuples\n",
    "genres_tuple = (\"pop\", \"rock\", \"soul\", \"hard rock\", \"soft rock\", \\\n",
    "                \"R&B\", \"progressive rock\", \"disco\") \n",
    "genres_tuple"
   ]
  },
  {
   "cell_type": "code",
   "execution_count": 6,
   "id": "73b60851-ec1c-49e9-b216-aedcc6f8dab2",
   "metadata": {},
   "outputs": [
    {
     "data": {
      "text/plain": [
       "8"
      ]
     },
     "execution_count": 6,
     "metadata": {},
     "output_type": "execute_result"
    }
   ],
   "source": [
    "# Find the length of the tuple, genres_tuple:\n",
    "len(genres_tuple)"
   ]
  },
  {
   "cell_type": "code",
   "execution_count": 9,
   "id": "14cbc431-7d82-413f-b494-9d8b81815ed4",
   "metadata": {},
   "outputs": [
    {
     "data": {
      "text/plain": [
       "('hard rock', 'soft rock', 'R&B')"
      ]
     },
     "execution_count": 9,
     "metadata": {},
     "output_type": "execute_result"
    }
   ],
   "source": [
    "#Access the element, with respect to index 3\n",
    "genres_tuple[3]\n",
    "genres_tuple[3:6]"
   ]
  },
  {
   "cell_type": "code",
   "execution_count": 10,
   "id": "ec1ffb01-c882-489c-8128-897c1aabad37",
   "metadata": {},
   "outputs": [
    {
     "data": {
      "text/plain": [
       "('pop', 'rock')"
      ]
     },
     "execution_count": 10,
     "metadata": {},
     "output_type": "execute_result"
    }
   ],
   "source": [
    "#Find the first two elements of the tuple genres_tuple:\n",
    "genres_tuple[0:2]"
   ]
  },
  {
   "cell_type": "code",
   "execution_count": 15,
   "id": "6da40704-73fb-4d58-9bfb-0945a56c5855",
   "metadata": {},
   "outputs": [
    {
     "data": {
      "text/plain": [
       "7"
      ]
     },
     "execution_count": 15,
     "metadata": {},
     "output_type": "execute_result"
    }
   ],
   "source": [
    "#Find the first index of \"disco\":\n",
    "genres_tuple[7][1]\n",
    "genres_tuple.index(\"disco\")"
   ]
  },
  {
   "cell_type": "code",
   "execution_count": 18,
   "id": "49815348-fd20-49cf-aab4-395b4919c817",
   "metadata": {},
   "outputs": [
    {
     "data": {
      "text/plain": [
       "[-5, -3, 1]"
      ]
     },
     "execution_count": 18,
     "metadata": {},
     "output_type": "execute_result"
    }
   ],
   "source": [
    "#Generate a sorted List from the Tuple C_tuple=(-5, 1, -3)\n",
    "C_tuple = (-5, 1, -3)\n",
    "C_tuple\n",
    "sorted(C_tuple)"
   ]
  },
  {
   "cell_type": "code",
   "execution_count": null,
   "id": "d02b2f3b-75a1-4261-917c-c2e49f3086ea",
   "metadata": {},
   "outputs": [],
   "source": []
  }
 ],
 "metadata": {
  "kernelspec": {
   "display_name": "Python",
   "language": "python",
   "name": "conda-env-python-py"
  },
  "language_info": {
   "codemirror_mode": {
    "name": "ipython",
    "version": 3
   },
   "file_extension": ".py",
   "mimetype": "text/x-python",
   "name": "python",
   "nbconvert_exporter": "python",
   "pygments_lexer": "ipython3",
   "version": "3.6.13"
  }
 },
 "nbformat": 4,
 "nbformat_minor": 5
}
